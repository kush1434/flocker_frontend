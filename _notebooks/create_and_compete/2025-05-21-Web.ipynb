{
 "cells": [
  {
   "cell_type": "markdown",
   "metadata": {},
   "source": [
    "---\n",
    "layout: post \n",
    "title: Create and Compete - Web Sockets\n",
    "search_exclude: true\n",
    "permalink: /create_and_compete/sockets\n",
    "menu: nav/create_and_compete.html\n",
    "author: Kush\n",
    "---"
   ]
  },
  {
   "cell_type": "markdown",
   "metadata": {},
   "source": []
  },
  {
   "cell_type": "markdown",
   "metadata": {},
   "source": [
    "# Introduction\n",
    "\n",
    "Welcome to WebSockets! If you know some Python and JavaScript, you can now build apps that talk to each other live. Instead of just sending messages one at a time, WebSockets keep the connection open so the server and browser can share updates right away. This lets you make things like chat apps or live notifications that work without refreshing the page. Today, you’ll learn how to create a simple WebSocket server with Python and connect it to JavaScript on the browser."
   ]
  },
  {
   "cell_type": "markdown",
   "id": "8ec68b50",
   "metadata": {},
   "source": [
    "# Understanding Web Sockets\n",
    "\n",
    "What are WebSockets?\n",
    "\n",
    "Think of WebSockets like a phone line between your browser and a server that stays open, letting them talk back and forth anytime. Unlike regular web servers that only send or get messages one at a time, WebSockets keep the connection live so information can flow instantly both ways.\n"
   ]
  },
  {
   "cell_type": "markdown",
   "id": "c9066aca",
   "metadata": {},
   "source": [
    "# WebSockets vs. Regular Web Servers\n",
    "You’ve seen how web servers like GitHub Pages or Flask send pages or data when you ask for them. WebSockets are different — they let your browser and server send updates to each other right away, without waiting for a new request."
   ]
  },
  {
   "cell_type": "markdown",
   "id": "d12e9896",
   "metadata": {},
   "source": [
    "# diagram of socket vs web server\n"
   ]
  },
  {
   "cell_type": "markdown",
   "id": "4ab874ed",
   "metadata": {},
   "source": [
    "# The WebSocket Framework\n",
    "WebSockets work with both Python and JavaScript. In Python, you can use simple tools to create a WebSocket server, while JavaScript in the browser handles the connection and messages. Today, we’ll start with the basics of WebSockets and learn how to build live, interactive applications that update in real time."
   ]
  },
  {
   "cell_type": "markdown",
   "id": "3c686c51",
   "metadata": {},
   "source": [
    "# Required Installations\n",
    "These libraries let you run a Python WebSocket server and allow browser connections."
   ]
  },
  {
   "cell_type": "code",
   "execution_count": null,
   "id": "0893e344",
   "metadata": {},
   "outputs": [],
   "source": [
    "!pip install flask flask-cors requests"
   ]
  },
  {
   "cell_type": "markdown",
   "id": "51b6984e",
   "metadata": {},
   "source": []
  }
 ],
 "metadata": {
  "language_info": {
   "name": "python"
  }
 },
 "nbformat": 4,
 "nbformat_minor": 5
}
