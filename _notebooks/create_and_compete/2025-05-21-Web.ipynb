{
 "cells": [
  {
   "cell_type": "markdown",
   "metadata": {},
   "source": [
    "---\n",
    "layout: post \n",
    "title: Create and Compete - Web Sockets\n",
    "search_exclude: true\n",
    "permalink: /create_and_compete/sockets\n",
    "menu: nav/create_and_compete.html\n",
    "author: Kush\n",
    "---"
   ]
  },
  {
   "cell_type": "markdown",
   "metadata": {},
   "source": []
  },
  {
   "cell_type": "markdown",
   "metadata": {},
   "source": [
    "# Introduction\n",
    "\n",
    "Welcome to WebSockets! If you know some Python and JavaScript, you can now build apps that talk to each other live. Instead of just sending messages one at a time, WebSockets keep the connection open so the server and browser can share updates right away. This lets you make things like chat apps or live notifications that work without refreshing the page. Today, you’ll learn how to create a simple WebSocket server with Python and connect it to JavaScript on the browser."
   ]
  },
  {
   "cell_type": "markdown",
   "id": "8ec68b50",
   "metadata": {},
   "source": [
    "# Understanding Web Sockets\n",
    "\n",
    "What are WebSockets?\n",
    "\n",
    "Think of WebSockets like a phone line between your browser and a server that stays open, letting them talk back and forth anytime. Unlike regular web servers that only send or get messages one at a time, WebSockets keep the connection live so information can flow instantly both ways.\n"
   ]
  },
  {
   "cell_type": "markdown",
   "id": "c9066aca",
   "metadata": {},
   "source": [
    "# WebSockets vs. Regular Web Servers\n",
    "You’ve seen how web servers like GitHub Pages or Flask send pages or data when you ask for them. WebSockets are different — they let your browser and server send updates to each other right away, without waiting for a new request."
   ]
  },
  {
   "cell_type": "markdown",
   "id": "d12e9896",
   "metadata": {},
   "source": [
    "## Socket Server: \n",
    "![Socket Diagram]({{site.baseurl}}/images/socket_server.png)\n",
    "\n",
    "- Connection stays open\n",
    "- Messages can flow freely both ways between server and multiple clients\n",
    "- Client and server can send messages anytime\n",
    "- Used for real-time apps like chat and live updates"
   ]
  },
  {
   "cell_type": "markdown",
   "id": "4f02c89d",
   "metadata": {},
   "source": [
    "## Web Server:\n",
    "![Web Diagram]({{site.baseurl}}/images/web_server.png)\n",
    "\n",
    "- Connection closes after each request\n",
    "- New request must be made for additional data\n",
    "- Request-response connections\n",
    "- Serve webpages, APIs, static content"
   ]
  },
  {
   "cell_type": "markdown",
   "id": "4ab874ed",
   "metadata": {},
   "source": [
    "# The WebSocket Framework\n",
    "WebSockets work with both Python and JavaScript. In Python, you can use simple tools to create a WebSocket server, while JavaScript in the browser handles the connection and messages. Today, we’ll start with the basics of WebSockets and learn how to build live, interactive applications that update in real time."
   ]
  },
  {
   "cell_type": "markdown",
   "id": "3c686c51",
   "metadata": {},
   "source": [
    "# Required Installations\n",
    "These libraries let you run a Python WebSocket server and allow browser connections."
   ]
  },
  {
   "cell_type": "code",
   "execution_count": null,
   "id": "0893e344",
   "metadata": {},
   "outputs": [],
   "source": [
    "!pip install asyncio\n",
    "!pip install websockets"
   ]
  },
  {
   "cell_type": "markdown",
   "id": "51b6984e",
   "metadata": {},
   "source": [
    "# Start Socket Server\n",
    "This Python code creates a basic WebSocket server that sends a welcome message when a client connects and echoes back any message it receives."
   ]
  },
  {
   "cell_type": "code",
   "execution_count": null,
   "id": "9cd5aa29",
   "metadata": {},
   "outputs": [],
   "source": [
    "import asyncio\n",
    "import websockets\n",
    "\n",
    "async def echo(websocket):\n",
    "    # Send a welcome message as soon as a client connects\n",
    "    await websocket.send(\"Welcome to the WebSocket server!\")\n",
    "\n",
    "    # Listen for messages from the client\n",
    "    async for message in websocket:\n",
    "        print(f\"Received from client: {message}\")\n",
    "        \n",
    "        # Send back the same message to the client\n",
    "        # This is just an echo server to show how it works\n",
    "        await websocket.send(f\"Server echo: {message}\")\n",
    "\n",
    "async def main():\n",
    "    # Start the WebSocket server on localhost port 8765\n",
    "    async with websockets.serve(\n",
    "        echo,\n",
    "        \"localhost\",\n",
    "        8765\n",
    "    ):\n",
    "        print(\"WebSocket server is listening on ws://localhost:8765\")\n",
    "        # Keep the server running forever\n",
    "        await asyncio.Future()\n",
    "\n",
    "# Run the server\n",
    "asyncio.run(main())\n"
   ]
  },
  {
   "cell_type": "markdown",
   "id": "eea79ab2",
   "metadata": {},
   "source": [
    "# API Request and Response\n",
    "In a WebSocket-based project, the main purpose is to build a **continuous channel** for the data exchange.\n",
    "Unlike normal API endpoints that require a new request for each update, WebSockets **keep the connection open**.\n",
    "\n",
    "\n",
    "- **Client Request**: The browser uses `ws.send()` to send messages to the server at any time.  \n",
    "- **Server Response**: The server receives messages and can instantly respond back using `websocket.send()`."
   ]
  },
  {
   "cell_type": "markdown",
   "id": "087b3223",
   "metadata": {},
   "source": [
    "# Response Handling\n",
    "Once messages are received in the browser, JavaScript handles these updates live. \n",
    "Just like dynamic tables with data from an API, you can **dynamically display incoming WebSocket messages**."
   ]
  },
  {
   "cell_type": "markdown",
   "id": "45823cd8",
   "metadata": {},
   "source": [
    "# Example Javascript Client with Live Updates Displaying on a Table\n",
    "Here’s how your browser can connect to the WebSocket server created previously and send/receive messages."
   ]
  },
  {
   "cell_type": "code",
   "execution_count": null,
   "id": "d43dfac3",
   "metadata": {
    "vscode": {
     "languageId": "html"
    }
   },
   "outputs": [],
   "source": [
    "<head>\n",
    "  <title>WebSocket Client</title>\n",
    "</head>\n",
    "<body>\n",
    "  <h2>WebSocket Live Messages</h2>\n",
    "  <button id=\"sendBtn\">Send Hello</button>\n",
    "\n",
    "  <!-- 1) Table Markup -->\n",
    "  <table border=\"1\" style=\"margin-top: 20px;\">\n",
    "    <thead>\n",
    "      <tr>\n",
    "        <th>Message</th>\n",
    "        <th>Timestamp</th>\n",
    "      </tr>\n",
    "    </thead>\n",
    "    <tbody id=\"messageTable\">\n",
    "      <!-- JavaScript will add rows here -->\n",
    "    </tbody>\n",
    "  </table>\n",
    "\n",
    "  <!-- 2) Client-Side JavaScript -->\n",
    "  <script>\n",
    "    const ws = new WebSocket(\"ws://localhost:8765\");\n",
    "    const table = document.getElementById(\"messageTable\");\n",
    "\n",
    "    ws.onopen = () => {\n",
    "      console.log(\"Connected to server\");\n",
    "    };\n",
    "\n",
    "    ws.onmessage = (event) => {\n",
    "      const now = new Date().toLocaleTimeString();\n",
    "      const tr = document.createElement(\"tr\");\n",
    "      const messageTd = document.createElement(\"td\");\n",
    "      const timeTd = document.createElement(\"td\");\n",
    "      messageTd.textContent = event.data;\n",
    "      timeTd.textContent = now;\n",
    "      tr.appendChild(messageTd);\n",
    "      tr.appendChild(timeTd);\n",
    "      table.appendChild(tr);\n",
    "    };\n",
    "\n",
    "    document.getElementById(\"sendBtn\").onclick = () => {\n",
    "      if (ws.readyState === WebSocket.OPEN) {\n",
    "        ws.send(\"Hello from browser!\");\n",
    "      } else {\n",
    "        console.warn(\"WebSocket is not open yet.\");\n",
    "      }\n",
    "    };\n",
    "  </script>\n",
    "</body>\n",
    "\n"
   ]
  },
  {
   "cell_type": "markdown",
   "id": "12e6ad52",
   "metadata": {},
   "source": [
    "# Ping/Pong Heartbeats\n",
    "\n",
    "Sometimes, if you leave a WebSocket open without sending any messages for a while, the network might think it’s not being used and **close the connection**.  \n",
    "This can happen if the user’s internet drops, they go idle, or a firewall decides to shut it down to save resources.\n",
    "\n",
    "To avoid this, servers and clients **send little \"pings\"** to each other, like saying:  \n",
    "“Hey, are you still there?”  \n",
    "If the other side is still alive, it **replies automatically** with a “pong” message, thus the name ping/pong\n",
    "\n",
    "This allows the connection to exist regardless of messages being sent.\n",
    "\n",
    "How is works: \n",
    "\n",
    "- **Server**: Every few seconds, it sends a **ping** to the client.  \n",
    "- **Client**: The browser automatically replies with a **pong**.  \n",
    "- If no **pong** is received, the server knows the client is gone and closes that connection.\n",
    "\n",
    "This is also called a heartbeat. It tells the server that the client is still \"alive\"."
   ]
  },
  {
   "cell_type": "markdown",
   "id": "7ffd744b",
   "metadata": {},
   "source": [
    "# Ping/Pong Heartbeats Application\n",
    "This is the same server we created earlier. The only change here are the parameters to websocket.serve()."
   ]
  },
  {
   "cell_type": "code",
   "execution_count": null,
   "id": "814d5fce",
   "metadata": {},
   "outputs": [],
   "source": [
    "import asyncio\n",
    "import websockets\n",
    "\n",
    "async def echo(websocket):\n",
    "    # Send a welcome message as soon as a client connects\n",
    "    await websocket.send(\"Welcome to the WebSocket server!\")\n",
    "\n",
    "    # Listen for messages from the client\n",
    "    async for message in websocket:\n",
    "        print(f\"Received from client: {message}\")\n",
    "        \n",
    "        # Send back the same message to the client\n",
    "        # This is just an echo server to show how it works\n",
    "        await websocket.send(f\"Server echo: {message}\")\n",
    "\n",
    "async def main():\n",
    "    # Start the WebSocket server on localhost port 8765\n",
    "    # ping_interval=10 means send a ping every 10 seconds\n",
    "    # ping_timeout=5 means if no pong reply in 5 seconds, close the connection\n",
    "    async with websockets.serve(\n",
    "        echo,\n",
    "        \"localhost\",\n",
    "        8765,\n",
    "        ping_interval=10,\n",
    "        ping_timeout=5\n",
    "    ):\n",
    "        print(\"WebSocket server is listening on ws://localhost:8765\")\n",
    "        # Keep the server running forever\n",
    "        await asyncio.Future()\n",
    "\n",
    "# Run the server\n",
    "asyncio.run(main())"
   ]
  },
  {
   "cell_type": "markdown",
   "id": "31490f50",
   "metadata": {},
   "source": [
    "# Broadcast Server (Chat-Room Style)\n",
    "Now that you know how to echo messages back to a single client, the next step is to **broadcast** any incoming message to **all connected clients**. \n",
    "This is how everyday chat-rooms are put into action.\n",
    "\n",
    "\n",
    "### How It Works\n",
    "\n",
    "- We keep track of every client that connects in a `connected` set.  \n",
    "- When a new message comes in from any one client, we loop through `connected` and send that message to everyone still open.\n",
    "- A new client is added when they do a `handshake`, this is when the client asks to access the port that the server is listening on.\n"
   ]
  },
  {
   "cell_type": "code",
   "execution_count": null,
   "id": "6c96b398",
   "metadata": {},
   "outputs": [],
   "source": [
    "import asyncio\n",
    "import websockets\n",
    "\n",
    "# Keep a set of all connected clients, set is to make sure there are no duplicates\n",
    "connected = set()\n",
    "\n",
    "async def broadcast(websocket):\n",
    "    # Add this client to the set\n",
    "    connected.add(websocket)\n",
    "    \n",
    "    # Send a welcome message to just this client\n",
    "    await websocket.send(\"Welcome! You’re now in the broadcast room.\")\n",
    "    \n",
    "    try:\n",
    "        # Listen for messages from this client\n",
    "        async for message in websocket:\n",
    "            print(f\"Broadcasting: {message}\")\n",
    "            \n",
    "            # Send the message to every open client\n",
    "            for client in connected:\n",
    "                if client.open:\n",
    "                    await client.send(f\"Broadcast: {message}\")\n",
    "    finally:\n",
    "        # Remove client when it disconnects\n",
    "        connected.remove(websocket)\n",
    "\n",
    "async def main():\n",
    "    # Start the broadcast server on port 8765\n",
    "    async with websockets.serve(\n",
    "        broadcast,   # handler that takes (websocket)\n",
    "        \"localhost\",\n",
    "        8765,\n",
    "        ping_interval=10,   # send a ping every 10 seconds\n",
    "        ping_timeout=5      # if no pong in 5 seconds, close connection\n",
    "    ):\n",
    "        print(\"Broadcast server is listening on ws://localhost:8765\")\n",
    "        await asyncio.Future()  # run forever\n",
    "\n",
    "# Run the server\n",
    "asyncio.run(main())"
   ]
  }
 ],
 "metadata": {
  "kernelspec": {
   "display_name": "venv",
   "language": "python",
   "name": "python3"
  },
  "language_info": {
   "codemirror_mode": {
    "name": "ipython",
    "version": 3
   },
   "file_extension": ".py",
   "mimetype": "text/x-python",
   "name": "python",
   "nbconvert_exporter": "python",
   "pygments_lexer": "ipython3",
   "version": "3.13.2"
  }
 },
 "nbformat": 4,
 "nbformat_minor": 5
}
