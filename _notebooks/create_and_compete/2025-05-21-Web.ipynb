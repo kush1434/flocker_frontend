{
 "cells": [
  {
   "cell_type": "markdown",
   "metadata": {},
   "source": [
    "---\n",
    "layout: post \n",
    "title: Create and Compete - Web Sockets\n",
    "search_exclude: true\n",
    "permalink: /create_and_compete/sockets\n",
    "menu: nav/create_and_compete.html\n",
    "author: Kush\n",
    "---"
   ]
  },
  {
   "cell_type": "markdown",
   "metadata": {},
   "source": []
  },
  {
   "cell_type": "markdown",
   "metadata": {},
   "source": [
    "# Introduction\n",
    "\n",
    "Welcome to WebSockets! If you know some Python and JavaScript, you can now build apps that talk to each other live. Instead of just sending messages one at a time, WebSockets keep the connection open so the server and browser can share updates right away. This lets you make things like chat apps or live notifications that work without refreshing the page. Today, you’ll learn how to create a simple WebSocket server with Python and connect it to JavaScript on the browser."
   ]
  },
  {
   "cell_type": "markdown",
   "id": "8ec68b50",
   "metadata": {},
   "source": [
    "# Understanding Web Sockets\n",
    "\n",
    "What are WebSockets?\n",
    "\n",
    "Think of WebSockets like a phone line between your browser and a server that stays open, letting them talk back and forth anytime. Unlike regular web servers that only send or get messages one at a time, WebSockets keep the connection live so information can flow instantly both ways.\n"
   ]
  },
  {
   "cell_type": "markdown",
   "id": "c9066aca",
   "metadata": {},
   "source": [
    "# WebSockets vs. Regular Web Servers\n",
    "You’ve seen how web servers like GitHub Pages or Flask send pages or data when you ask for them. WebSockets are different — they let your browser and server send updates to each other right away, without waiting for a new request."
   ]
  },
  {
   "cell_type": "markdown",
   "id": "d12e9896",
   "metadata": {},
   "source": [
    "# diagram of socket vs web server\n"
   ]
  },
  {
   "cell_type": "markdown",
   "id": "4ab874ed",
   "metadata": {},
   "source": [
    "# The WebSocket Framework\n",
    "WebSockets work with both Python and JavaScript. In Python, you can use simple tools to create a WebSocket server, while JavaScript in the browser handles the connection and messages. Today, we’ll start with the basics of WebSockets and learn how to build live, interactive applications that update in real time."
   ]
  },
  {
   "cell_type": "markdown",
   "id": "3c686c51",
   "metadata": {},
   "source": [
    "# Required Installations\n",
    "These libraries let you run a Python WebSocket server and allow browser connections."
   ]
  },
  {
   "cell_type": "code",
   "execution_count": null,
   "id": "0893e344",
   "metadata": {},
   "outputs": [],
   "source": [
    "!pip install websockets\n",
    "!pip install nest_asyncio # Only needed when implementing in Jupyter Notebooks\n"
   ]
  },
  {
   "cell_type": "markdown",
   "id": "51b6984e",
   "metadata": {},
   "source": [
    "# Start Socket Server\n",
    "This Python code creates a basic WebSocket server that sends a welcome message when a client connects and echoes back any message it receives."
   ]
  },
  {
   "cell_type": "code",
   "execution_count": null,
   "id": "9cd5aa29",
   "metadata": {},
   "outputs": [],
   "source": [
    "import asyncio\n",
    "import websockets\n",
    "import nest_asyncio # Only needed when implementing in Jupyter Notebooks\n",
    "\n",
    "nest_asyncio.apply()\n",
    "\n",
    "async def echo(websocket, path):\n",
    "    # Send a welcome message when a client connects\n",
    "    await websocket.send(\"Welcome to the WebSocket server!\")\n",
    "    \n",
    "    # Wait and listen for messages from the client\n",
    "    async for message in websocket:\n",
    "        print(f\"Received from client: {message}\")\n",
    "        \n",
    "        # Send back the same message to the client\n",
    "        # In common applications, message will be sent to a different client, this is just an echo server to demonstrate the concept\n",
    "        await websocket.send(f\"Server echo: {message}\")\n",
    "\n",
    "# Start the WebSocket server on your computer at port 8765\n",
    "start_server = websockets.serve(echo, \"localhost\", 8765)\n",
    "\n",
    "# Run the server and keep it running\n",
    "asyncio.get_event_loop().run_until_complete(start_server)\n",
    "asyncio.get_event_loop().run_forever()\n"
   ]
  },
  {
   "cell_type": "markdown",
   "id": "a9f44652",
   "metadata": {},
   "source": [
    "# Example Javascript Client\n",
    "Here’s how your browser can connect to the WebSocket server created above and send/receive messages.\n"
   ]
  },
  {
   "cell_type": "code",
   "execution_count": null,
   "id": "55f51365",
   "metadata": {
    "vscode": {
     "languageId": "html"
    }
   },
   "outputs": [],
   "source": [
    "<html>\n",
    "<head>\n",
    "  <title>WebSocket Client</title>\n",
    "</head>\n",
    "<body>\n",
    "  <h2>WebSocket Demo</h2>\n",
    "  <button id=\"sendBtn\">Send Hello</button>\n",
    "  <pre id=\"messages\"></pre>\n",
    "\n",
    "  <script>\n",
    "    // Connect to the WebSocket server\n",
    "    const ws = new WebSocket(\"ws://localhost:8765\");\n",
    "\n",
    "    // Runs when connection is ready\n",
    "    ws.onopen = () => {\n",
    "      console.log(\"Connected to server\");\n",
    "      document.getElementById('messages').textContent += \"Connected to server\\n\";\n",
    "    };\n",
    "\n",
    "    // Runs when a message comes from the server\n",
    "    ws.onmessage = (event) => {\n",
    "      console.log(\"Received: \" + event.data);\n",
    "      document.getElementById('messages').textContent += \"Received: \" + event.data + \"\\n\";\n",
    "    };\n",
    "\n",
    "    // Send a message to the server when this function is called\n",
    "    document.getElementById('sendBtn').onclick = () => {\n",
    "      ws.send(\"Hello from browser!\");\n",
    "    };\n",
    "  </script>\n",
    "</body>\n",
    "</html>\n"
   ]
  }
 ],
 "metadata": {
  "kernelspec": {
   "display_name": "venv",
   "language": "python",
   "name": "python3"
  },
  "language_info": {
   "codemirror_mode": {
    "name": "ipython",
    "version": 3
   },
   "file_extension": ".py",
   "mimetype": "text/x-python",
   "name": "python",
   "nbconvert_exporter": "python",
   "pygments_lexer": "ipython3",
   "version": "3.13.2"
  }
 },
 "nbformat": 4,
 "nbformat_minor": 5
}
